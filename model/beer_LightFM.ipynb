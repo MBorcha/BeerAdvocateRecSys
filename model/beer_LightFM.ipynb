{
  "cells": [
    {
      "cell_type": "code",
      "source": [
        "pip install lightfm"
      ],
      "metadata": {
        "colab": {
          "base_uri": "https://localhost:8080/"
        },
        "id": "3jsDHQwCeJ1O",
        "outputId": "1d966eac-12e6-4d34-cc31-fba34deed7f6"
      },
      "execution_count": 3,
      "outputs": [
        {
          "output_type": "stream",
          "name": "stdout",
          "text": [
            "Looking in indexes: https://pypi.org/simple, https://us-python.pkg.dev/colab-wheels/public/simple/\n",
            "Collecting lightfm\n",
            "  Downloading lightfm-1.16.tar.gz (310 kB)\n",
            "\u001b[K     |████████████████████████████████| 310 kB 26.9 MB/s \n",
            "\u001b[?25hRequirement already satisfied: numpy in /usr/local/lib/python3.7/dist-packages (from lightfm) (1.21.6)\n",
            "Requirement already satisfied: scipy>=0.17.0 in /usr/local/lib/python3.7/dist-packages (from lightfm) (1.7.3)\n",
            "Requirement already satisfied: requests in /usr/local/lib/python3.7/dist-packages (from lightfm) (2.23.0)\n",
            "Requirement already satisfied: scikit-learn in /usr/local/lib/python3.7/dist-packages (from lightfm) (1.0.2)\n",
            "Requirement already satisfied: urllib3!=1.25.0,!=1.25.1,<1.26,>=1.21.1 in /usr/local/lib/python3.7/dist-packages (from requests->lightfm) (1.24.3)\n",
            "Requirement already satisfied: certifi>=2017.4.17 in /usr/local/lib/python3.7/dist-packages (from requests->lightfm) (2022.9.24)\n",
            "Requirement already satisfied: idna<3,>=2.5 in /usr/local/lib/python3.7/dist-packages (from requests->lightfm) (2.10)\n",
            "Requirement already satisfied: chardet<4,>=3.0.2 in /usr/local/lib/python3.7/dist-packages (from requests->lightfm) (3.0.4)\n",
            "Requirement already satisfied: joblib>=0.11 in /usr/local/lib/python3.7/dist-packages (from scikit-learn->lightfm) (1.2.0)\n",
            "Requirement already satisfied: threadpoolctl>=2.0.0 in /usr/local/lib/python3.7/dist-packages (from scikit-learn->lightfm) (3.1.0)\n",
            "Building wheels for collected packages: lightfm\n",
            "  Building wheel for lightfm (setup.py) ... \u001b[?25l\u001b[?25hdone\n",
            "  Created wheel for lightfm: filename=lightfm-1.16-cp37-cp37m-linux_x86_64.whl size=705371 sha256=6c133f48646319c469c5aa02f1f3c18828b96ce0c43d992fb7154662fabb2bcb\n",
            "  Stored in directory: /root/.cache/pip/wheels/f8/56/28/5772a3bd3413d65f03aa452190b00898b680b10028a1021914\n",
            "Successfully built lightfm\n",
            "Installing collected packages: lightfm\n",
            "Successfully installed lightfm-1.16\n"
          ]
        }
      ]
    },
    {
      "cell_type": "code",
      "execution_count": 4,
      "metadata": {
        "id": "o8UZHALFdwJJ"
      },
      "outputs": [],
      "source": [
        "import pandas as pd\n",
        "import numpy as np\n",
        "import scipy.sparse as sp\n",
        "from lightfm import LightFM\n",
        "import multiprocessing as mp\n",
        "\n",
        "import torch\n",
        "import torch.nn as nn\n",
        "from torch.utils.data import Dataset, DataLoader\n",
        "from torch.optim import Adam\n",
        "from torch.nn import functional as F\n",
        "import random\n",
        "from pathlib import Path\n",
        "import os"
      ]
    },
    {
      "cell_type": "markdown",
      "metadata": {
        "id": "1SCJLd-BdwJO"
      },
      "source": [
        "# Datasets"
      ]
    },
    {
      "cell_type": "code",
      "execution_count": 6,
      "metadata": {
        "colab": {
          "base_uri": "https://localhost:8080/"
        },
        "id": "QA9Ms-NidwJT",
        "outputId": "74bf0bdb-da23-4392-e277-4e51740a56a6"
      },
      "outputs": [
        {
          "output_type": "stream",
          "name": "stdout",
          "text": [
            " beer_dataset\t        beer.txt\t   data\t\t        github\t tmp\n",
            " beer_reviews.csv.zip  'Colab Notebooks'   DeepLearn-main.zip   ssh\n"
          ]
        }
      ],
      "source": [
        "datasets_path = '/content/drive/MyDrive/'\n",
        "datasets_path = Path(datasets_path)\n",
        "\n",
        "!ls '/content/drive/MyDrive/'"
      ]
    },
    {
      "cell_type": "code",
      "execution_count": 7,
      "metadata": {
        "id": "I0YbnWFWdwJW"
      },
      "outputs": [],
      "source": [
        "def evaluate(model, dataset, args):\n",
        "    [train, valid, test, usernum, itemnum] = copy.deepcopy(dataset)\n",
        "\n",
        "    NDCG = 0.0\n",
        "    HT = 0.0\n",
        "    valid_user = 0.0\n",
        "\n",
        "    if usernum>10000:\n",
        "        users = random.sample(range(1, usernum + 1), 10000)\n",
        "    else:\n",
        "        users = range(1, usernum + 1)\n",
        "    for u in users:\n",
        "\n",
        "        if len(train[u]) < 1 or len(test[u]) < 1: continue\n",
        "\n",
        "        seq = np.zeros([args.maxlen], dtype=np.int32)\n",
        "        idx = args.maxlen - 1\n",
        "        seq[idx] = valid[u][0]\n",
        "        idx -= 1\n",
        "        for i in reversed(train[u]):\n",
        "            seq[idx] = i\n",
        "            idx -= 1\n",
        "            if idx == -1: break\n",
        "        rated = set(train[u])\n",
        "        rated.add(0)\n",
        "        item_idx = [test[u][0]]\n",
        "        for _ in range(100):\n",
        "            t = np.random.randint(1, itemnum + 1)\n",
        "            while t in rated: t = np.random.randint(1, itemnum + 1)\n",
        "            item_idx.append(t)\n",
        "\n",
        "        predictions = -model.predict(*[np.array(l) for l in [[u], [seq], item_idx]])\n",
        "        predictions = predictions[0] # - for 1st argsort DESC\n",
        "\n",
        "        rank = predictions.argsort().argsort()[0].item()\n",
        "\n",
        "        valid_user += 1\n",
        "\n",
        "        if rank < 10:\n",
        "            NDCG += 1 / np.log2(rank + 2)\n",
        "            HT += 1\n",
        "        if valid_user % 100 == 0:\n",
        "            print('.', end=\"\")\n",
        "            sys.stdout.flush()\n",
        "\n",
        "    return NDCG / valid_user, HT / valid_user\n",
        "\n",
        "\n",
        "# evaluate on val set\n",
        "def evaluate_valid(model, dataset, args):\n",
        "    [train, valid, test, usernum, itemnum] = copy.deepcopy(dataset)\n",
        "\n",
        "    NDCG = 0.0\n",
        "    valid_user = 0.0\n",
        "    HT = 0.0\n",
        "    if usernum>10000:\n",
        "        users = random.sample(range(1, usernum + 1), 10000)\n",
        "    else:\n",
        "        users = range(1, usernum + 1)\n",
        "    for u in users:\n",
        "        if len(train[u]) < 1 or len(valid[u]) < 1: continue\n",
        "\n",
        "        seq = np.zeros([args.maxlen], dtype=np.int32)\n",
        "        idx = args.maxlen - 1\n",
        "        for i in reversed(train[u]):\n",
        "            seq[idx] = i\n",
        "            idx -= 1\n",
        "            if idx == -1: break\n",
        "\n",
        "        rated = set(train[u])\n",
        "        rated.add(0)\n",
        "        item_idx = [valid[u][0]]\n",
        "        for _ in range(100):\n",
        "            t = np.random.randint(1, itemnum + 1)\n",
        "            while t in rated: t = np.random.randint(1, itemnum + 1)\n",
        "            item_idx.append(t)\n",
        "\n",
        "        predictions = -model.predict(*[np.array(l) for l in [[u], [seq], item_idx]])\n",
        "        predictions = predictions[0]\n",
        "\n",
        "        rank = predictions.argsort().argsort()[0].item()\n",
        "\n",
        "        valid_user += 1\n",
        "\n",
        "        if rank < 10:\n",
        "            NDCG += 1 / np.log2(rank + 2)\n",
        "            HT += 1\n",
        "        if valid_user % 100 == 0:\n",
        "            print('.', end=\"\")\n",
        "            sys.stdout.flush()\n",
        "\n",
        "    return NDCG / valid_user, HT / valid_user"
      ]
    },
    {
      "cell_type": "code",
      "execution_count": 8,
      "metadata": {
        "colab": {
          "base_uri": "https://localhost:8080/"
        },
        "id": "FWcWQoEHdwJa",
        "outputId": "41a6e4fc-e66a-4873-f64d-33af703b84be"
      },
      "outputs": [
        {
          "output_type": "stream",
          "name": "stdout",
          "text": [
            "dataset beer.txt\n"
          ]
        }
      ],
      "source": [
        "# ratings = pd.read_csv('ml-1m/ratings.dat', delimiter='::', header=None, \n",
        "#         names=['user_id', 'beer_id', 'rating', 'timestamp'], \n",
        "#         usecols=['user_id', 'beer_id', 'rating'], engine='python')\n",
        "\n",
        "# beer_info = pd.read_csv('ml-1m/beers.dat', delimiter='::', header=None, \n",
        "#         names=['beer_id', 'name', 'category'], engine='python')\n",
        "file = 'beer.txt'#'Beauty.txt'#   Steam.txt  Video.txt  ml-1m.txt\n",
        "        \n",
        "print('dataset', file)\n",
        "users = []\n",
        "beers = []\n",
        "with open(datasets_path / file, 'r') as data:\n",
        "    lines = data.readlines()\n",
        "\n",
        "    for line in lines:\n",
        "        user_beer = line.split(' ')\n",
        "        user = int(user_beer[0])\n",
        "        beer = int(user_beer[1])\n",
        "\n",
        "        users.append(user)\n",
        "        beers.append(beer)\n",
        "\n",
        "df_data = {\n",
        "    'user_id': users,\n",
        "    'beer_id': beers\n",
        "}\n",
        "interactions = pd.DataFrame.from_dict(df_data)\n",
        "ratings = interactions"
      ]
    },
    {
      "cell_type": "code",
      "execution_count": 9,
      "metadata": {
        "id": "c6fAU_4_dwJe"
      },
      "outputs": [],
      "source": [
        "#ratings = ratings.loc[(ratings['rating'] >= 4)]\n",
        "users = ratings[\"user_id\"]\n",
        "beers = ratings[\"beer_id\"]\n",
        "user_item = sp.coo_matrix((np.ones_like(users), (users, beers)))\n",
        "user_item_csr = user_item.tocsr()"
      ]
    },
    {
      "cell_type": "code",
      "execution_count": 10,
      "metadata": {
        "id": "PzbblVXgdwJf"
      },
      "outputs": [],
      "source": [
        "unique_users = np.unique(users)\n",
        "unique_beers = set(np.unique(beers))\n",
        "\n",
        "grouped_interactions = ratings.groupby('user_id')['beer_id'].apply(list)\n",
        "\n",
        "train_dataset = {}\n",
        "test_dataset = {}\n",
        "negative_dataset = {}\n",
        "\n",
        "for user_id, user_beers in grouped_interactions.iteritems():\n",
        "    if len(user_beers) < 2:\n",
        "        continue\n",
        "\n",
        "    train_dataset[user_id] = user_beers[:-1]\n",
        "    test_dataset[user_id] = user_beers[-1]\n",
        "    negative_dataset[user_id] =  list(unique_beers - set(user_beers))\n",
        "    \n",
        "total_users = list(test_dataset.keys())"
      ]
    },
    {
      "cell_type": "code",
      "execution_count": 11,
      "metadata": {
        "colab": {
          "base_uri": "https://localhost:8080/"
        },
        "id": "WBpd5e_VdwJh",
        "outputId": "8edf1fc5-11d5-4add-c0d8-270450d8fd09"
      },
      "outputs": [
        {
          "output_type": "execute_result",
          "data": {
            "text/plain": [
              "(32908, 32908)"
            ]
          },
          "metadata": {},
          "execution_count": 11
        }
      ],
      "source": [
        "len(train_dataset), len(total_users)"
      ]
    },
    {
      "cell_type": "code",
      "execution_count": 12,
      "metadata": {
        "id": "xluQM9f4dwJj"
      },
      "outputs": [],
      "source": [
        "def extract_csr_data(interactions):\n",
        "    coo_users = []\n",
        "    for user_id in interactions:\n",
        "        coo_users.append(np.full(len(interactions[user_id]), user_id))\n",
        "    \n",
        "    coo_users = np.hstack(coo_users)\n",
        "    coo_beers = []\n",
        "    for user_id in interactions:\n",
        "        coo_beers.append(np.array(interactions[user_id]))\n",
        "    \n",
        "    coo_beers = np.hstack(coo_beers)\n",
        "    \n",
        "    user_item = sp.coo_matrix((np.ones_like(coo_users), (coo_users, coo_beers)))\n",
        "    return user_item.tocsr()\n",
        "\n",
        "train_data = extract_csr_data(train_dataset)"
      ]
    },
    {
      "cell_type": "markdown",
      "metadata": {
        "id": "O9O5LAhUdwJk"
      },
      "source": [
        "# Evaluation "
      ]
    },
    {
      "cell_type": "markdown",
      "metadata": {
        "id": "4UpYqI6ndwJm"
      },
      "source": [
        "Аналогично статье из NCF будем сравнивать все модели по метрикам Hit rate(HR@K) и NDCG@K. K = 10\n",
        "Помимо одного позитива, также добавим 99 случайных негативных фильмов для пользователя, тем самым будем оценивать эти метрики относительно ранжирования этих 1 + 99 фильмов."
      ]
    },
    {
      "cell_type": "code",
      "execution_count": 13,
      "metadata": {
        "id": "SEkguvsVdwJn"
      },
      "outputs": [],
      "source": [
        "def evaluate_metrics_for_user(args):\n",
        "    k = 10\n",
        "    model, user_id = args\n",
        "    if user_id not in negative_dataset[user_id]:\n",
        "        return None\n",
        "    \n",
        "    last_user_beer = test_dataset[user_id]\n",
        "    np.random.shuffle(negative_dataset[user_id])\n",
        "    random_negative_beers = negative_dataset[user_id][:99]\n",
        "\n",
        "    input_beers = np.array([last_user_beer] + list(random_negative_beers))\n",
        "    input_user = np.full(len(input_beers), user_id)\n",
        "    \n",
        "    pred = model.predict(input_user, input_beers)\n",
        "\n",
        "    top_beers = input_beers[np.argsort(pred)[-k:]]\n",
        "\n",
        "    hit_rate = 1 if last_user_beer in top_beers else 0\n",
        "\n",
        "    ndcg = 0 # TODO? 1 / np.log2(rank + 2)\n",
        "    for position, beer in enumerate(top_beers):\n",
        "        if beer == last_user_beer:\n",
        "            ndcg = 1 / np.log2(position + 2)\n",
        "            break\n",
        "    return hit_rate, ndcg\n",
        "\n",
        "def evaluate_model(model):\n",
        "    with mp.Pool(mp.cpu_count()) as pool:\n",
        "        users_len = len(total_users)\n",
        "        metrics = pool.map(evaluate_metrics_for_user, zip([model] * users_len, total_users))\n",
        "        hrs = [metric[0] for metric in metrics if metric is not None]\n",
        "        ndcgs = [metric[1] for metric in metrics if metric is not None]\n",
        "\n",
        "    print('Mean HR', np.mean(hrs))\n",
        "    print('Mean NDCG', np.mean(ndcgs))"
      ]
    },
    {
      "cell_type": "code",
      "execution_count": 14,
      "metadata": {
        "colab": {
          "base_uri": "https://localhost:8080/"
        },
        "id": "TcKIEBSIdwJp",
        "outputId": "8eedbd2e-8f0d-43d2-a942-c5fa181c55af"
      },
      "outputs": [
        {
          "output_type": "stream",
          "name": "stderr",
          "text": [
            "Epoch: 100%|██████████| 40/40 [10:31<00:00, 15.79s/it]\n"
          ]
        },
        {
          "output_type": "execute_result",
          "data": {
            "text/plain": [
              "<lightfm.lightfm.LightFM at 0x7f56d7dbd490>"
            ]
          },
          "metadata": {},
          "execution_count": 14
        }
      ],
      "source": [
        "baseline_warp = LightFM(\n",
        "    no_components=64, \n",
        "    learning_rate=0.01,\n",
        "    loss='warp',\n",
        "    max_sampled=200\n",
        ")\n",
        "\n",
        "baseline_warp.fit(train_data, epochs=40, verbose=True, num_threads=mp.cpu_count())"
      ]
    },
    {
      "cell_type": "code",
      "execution_count": 15,
      "metadata": {
        "colab": {
          "base_uri": "https://localhost:8080/"
        },
        "id": "n2rIpD_0dwJt",
        "outputId": "83eb43c3-0e58-48dd-81d5-d7ed93af4cc8"
      },
      "outputs": [
        {
          "output_type": "stream",
          "name": "stdout",
          "text": [
            "Mean HR 0.7635184508586043\n",
            "Mean NDCG 0.26705864383733013\n"
          ]
        }
      ],
      "source": [
        "evaluate_model(baseline_warp)"
      ]
    },
    {
      "cell_type": "code",
      "execution_count": 16,
      "metadata": {
        "colab": {
          "base_uri": "https://localhost:8080/"
        },
        "id": "auDDC4hidwJu",
        "outputId": "13b8b715-b22d-4d97-e781-d64ed565b679"
      },
      "outputs": [
        {
          "output_type": "stream",
          "name": "stderr",
          "text": [
            "Epoch: 100%|██████████| 40/40 [01:49<00:00,  2.73s/it]\n"
          ]
        },
        {
          "output_type": "execute_result",
          "data": {
            "text/plain": [
              "<lightfm.lightfm.LightFM at 0x7f56d7dc4810>"
            ]
          },
          "metadata": {},
          "execution_count": 16
        }
      ],
      "source": [
        "baseline_bpr = LightFM(\n",
        "    no_components=64, \n",
        "    learning_rate=0.01,\n",
        "    loss='bpr',\n",
        "    max_sampled=200\n",
        ")\n",
        "\n",
        "baseline_bpr.fit(train_data, epochs=40, verbose=True, num_threads=mp.cpu_count())"
      ]
    },
    {
      "cell_type": "code",
      "execution_count": 17,
      "metadata": {
        "colab": {
          "base_uri": "https://localhost:8080/"
        },
        "id": "-XG8WjJfdwJw",
        "outputId": "1e0d09e6-bba3-4ec4-ab1c-a9c561d1235e"
      },
      "outputs": [
        {
          "output_type": "stream",
          "name": "stdout",
          "text": [
            "Mean HR 0.7637924735111435\n",
            "Mean NDCG 0.25274897526772244\n"
          ]
        }
      ],
      "source": [
        "evaluate_model(baseline_bpr)"
      ]
    },
    {
      "cell_type": "code",
      "source": [
        "beer_info = pd.read_csv('/content/drive/MyDrive/beer_dataset/beer_reviews.csv')"
      ],
      "metadata": {
        "id": "VAFY5Go0ikxo"
      },
      "execution_count": 19,
      "outputs": []
    },
    {
      "cell_type": "code",
      "source": [
        "beer_info.head()"
      ],
      "metadata": {
        "colab": {
          "base_uri": "https://localhost:8080/",
          "height": 392
        },
        "id": "4B1-dNyriw2g",
        "outputId": "d298f8f0-e90b-4211-a475-7fd0526c9bb1"
      },
      "execution_count": 20,
      "outputs": [
        {
          "output_type": "execute_result",
          "data": {
            "text/plain": [
              "   brewery_id             brewery_name  review_time  review_overall  \\\n",
              "0       10325          Vecchio Birraio   1234817823             1.5   \n",
              "1       10325          Vecchio Birraio   1235915097             3.0   \n",
              "2       10325          Vecchio Birraio   1235916604             3.0   \n",
              "3       10325          Vecchio Birraio   1234725145             3.0   \n",
              "4        1075  Caldera Brewing Company   1293735206             4.0   \n",
              "\n",
              "   review_aroma  review_appearance review_profilename  \\\n",
              "0           2.0                2.5            stcules   \n",
              "1           2.5                3.0            stcules   \n",
              "2           2.5                3.0            stcules   \n",
              "3           3.0                3.5            stcules   \n",
              "4           4.5                4.0     johnmichaelsen   \n",
              "\n",
              "                       beer_style  review_palate  review_taste  \\\n",
              "0                      Hefeweizen            1.5           1.5   \n",
              "1              English Strong Ale            3.0           3.0   \n",
              "2          Foreign / Export Stout            3.0           3.0   \n",
              "3                 German Pilsener            2.5           3.0   \n",
              "4  American Double / Imperial IPA            4.0           4.5   \n",
              "\n",
              "                beer_name  beer_abv  beer_beerid  \n",
              "0            Sausa Weizen       5.0        47986  \n",
              "1                Red Moon       6.2        48213  \n",
              "2  Black Horse Black Beer       6.5        48215  \n",
              "3              Sausa Pils       5.0        47969  \n",
              "4           Cauldron DIPA       7.7        64883  "
            ],
            "text/html": [
              "\n",
              "  <div id=\"df-9f787c69-002b-49d7-9a51-834fcfde3265\">\n",
              "    <div class=\"colab-df-container\">\n",
              "      <div>\n",
              "<style scoped>\n",
              "    .dataframe tbody tr th:only-of-type {\n",
              "        vertical-align: middle;\n",
              "    }\n",
              "\n",
              "    .dataframe tbody tr th {\n",
              "        vertical-align: top;\n",
              "    }\n",
              "\n",
              "    .dataframe thead th {\n",
              "        text-align: right;\n",
              "    }\n",
              "</style>\n",
              "<table border=\"1\" class=\"dataframe\">\n",
              "  <thead>\n",
              "    <tr style=\"text-align: right;\">\n",
              "      <th></th>\n",
              "      <th>brewery_id</th>\n",
              "      <th>brewery_name</th>\n",
              "      <th>review_time</th>\n",
              "      <th>review_overall</th>\n",
              "      <th>review_aroma</th>\n",
              "      <th>review_appearance</th>\n",
              "      <th>review_profilename</th>\n",
              "      <th>beer_style</th>\n",
              "      <th>review_palate</th>\n",
              "      <th>review_taste</th>\n",
              "      <th>beer_name</th>\n",
              "      <th>beer_abv</th>\n",
              "      <th>beer_beerid</th>\n",
              "    </tr>\n",
              "  </thead>\n",
              "  <tbody>\n",
              "    <tr>\n",
              "      <th>0</th>\n",
              "      <td>10325</td>\n",
              "      <td>Vecchio Birraio</td>\n",
              "      <td>1234817823</td>\n",
              "      <td>1.5</td>\n",
              "      <td>2.0</td>\n",
              "      <td>2.5</td>\n",
              "      <td>stcules</td>\n",
              "      <td>Hefeweizen</td>\n",
              "      <td>1.5</td>\n",
              "      <td>1.5</td>\n",
              "      <td>Sausa Weizen</td>\n",
              "      <td>5.0</td>\n",
              "      <td>47986</td>\n",
              "    </tr>\n",
              "    <tr>\n",
              "      <th>1</th>\n",
              "      <td>10325</td>\n",
              "      <td>Vecchio Birraio</td>\n",
              "      <td>1235915097</td>\n",
              "      <td>3.0</td>\n",
              "      <td>2.5</td>\n",
              "      <td>3.0</td>\n",
              "      <td>stcules</td>\n",
              "      <td>English Strong Ale</td>\n",
              "      <td>3.0</td>\n",
              "      <td>3.0</td>\n",
              "      <td>Red Moon</td>\n",
              "      <td>6.2</td>\n",
              "      <td>48213</td>\n",
              "    </tr>\n",
              "    <tr>\n",
              "      <th>2</th>\n",
              "      <td>10325</td>\n",
              "      <td>Vecchio Birraio</td>\n",
              "      <td>1235916604</td>\n",
              "      <td>3.0</td>\n",
              "      <td>2.5</td>\n",
              "      <td>3.0</td>\n",
              "      <td>stcules</td>\n",
              "      <td>Foreign / Export Stout</td>\n",
              "      <td>3.0</td>\n",
              "      <td>3.0</td>\n",
              "      <td>Black Horse Black Beer</td>\n",
              "      <td>6.5</td>\n",
              "      <td>48215</td>\n",
              "    </tr>\n",
              "    <tr>\n",
              "      <th>3</th>\n",
              "      <td>10325</td>\n",
              "      <td>Vecchio Birraio</td>\n",
              "      <td>1234725145</td>\n",
              "      <td>3.0</td>\n",
              "      <td>3.0</td>\n",
              "      <td>3.5</td>\n",
              "      <td>stcules</td>\n",
              "      <td>German Pilsener</td>\n",
              "      <td>2.5</td>\n",
              "      <td>3.0</td>\n",
              "      <td>Sausa Pils</td>\n",
              "      <td>5.0</td>\n",
              "      <td>47969</td>\n",
              "    </tr>\n",
              "    <tr>\n",
              "      <th>4</th>\n",
              "      <td>1075</td>\n",
              "      <td>Caldera Brewing Company</td>\n",
              "      <td>1293735206</td>\n",
              "      <td>4.0</td>\n",
              "      <td>4.5</td>\n",
              "      <td>4.0</td>\n",
              "      <td>johnmichaelsen</td>\n",
              "      <td>American Double / Imperial IPA</td>\n",
              "      <td>4.0</td>\n",
              "      <td>4.5</td>\n",
              "      <td>Cauldron DIPA</td>\n",
              "      <td>7.7</td>\n",
              "      <td>64883</td>\n",
              "    </tr>\n",
              "  </tbody>\n",
              "</table>\n",
              "</div>\n",
              "      <button class=\"colab-df-convert\" onclick=\"convertToInteractive('df-9f787c69-002b-49d7-9a51-834fcfde3265')\"\n",
              "              title=\"Convert this dataframe to an interactive table.\"\n",
              "              style=\"display:none;\">\n",
              "        \n",
              "  <svg xmlns=\"http://www.w3.org/2000/svg\" height=\"24px\"viewBox=\"0 0 24 24\"\n",
              "       width=\"24px\">\n",
              "    <path d=\"M0 0h24v24H0V0z\" fill=\"none\"/>\n",
              "    <path d=\"M18.56 5.44l.94 2.06.94-2.06 2.06-.94-2.06-.94-.94-2.06-.94 2.06-2.06.94zm-11 1L8.5 8.5l.94-2.06 2.06-.94-2.06-.94L8.5 2.5l-.94 2.06-2.06.94zm10 10l.94 2.06.94-2.06 2.06-.94-2.06-.94-.94-2.06-.94 2.06-2.06.94z\"/><path d=\"M17.41 7.96l-1.37-1.37c-.4-.4-.92-.59-1.43-.59-.52 0-1.04.2-1.43.59L10.3 9.45l-7.72 7.72c-.78.78-.78 2.05 0 2.83L4 21.41c.39.39.9.59 1.41.59.51 0 1.02-.2 1.41-.59l7.78-7.78 2.81-2.81c.8-.78.8-2.07 0-2.86zM5.41 20L4 18.59l7.72-7.72 1.47 1.35L5.41 20z\"/>\n",
              "  </svg>\n",
              "      </button>\n",
              "      \n",
              "  <style>\n",
              "    .colab-df-container {\n",
              "      display:flex;\n",
              "      flex-wrap:wrap;\n",
              "      gap: 12px;\n",
              "    }\n",
              "\n",
              "    .colab-df-convert {\n",
              "      background-color: #E8F0FE;\n",
              "      border: none;\n",
              "      border-radius: 50%;\n",
              "      cursor: pointer;\n",
              "      display: none;\n",
              "      fill: #1967D2;\n",
              "      height: 32px;\n",
              "      padding: 0 0 0 0;\n",
              "      width: 32px;\n",
              "    }\n",
              "\n",
              "    .colab-df-convert:hover {\n",
              "      background-color: #E2EBFA;\n",
              "      box-shadow: 0px 1px 2px rgba(60, 64, 67, 0.3), 0px 1px 3px 1px rgba(60, 64, 67, 0.15);\n",
              "      fill: #174EA6;\n",
              "    }\n",
              "\n",
              "    [theme=dark] .colab-df-convert {\n",
              "      background-color: #3B4455;\n",
              "      fill: #D2E3FC;\n",
              "    }\n",
              "\n",
              "    [theme=dark] .colab-df-convert:hover {\n",
              "      background-color: #434B5C;\n",
              "      box-shadow: 0px 1px 3px 1px rgba(0, 0, 0, 0.15);\n",
              "      filter: drop-shadow(0px 1px 2px rgba(0, 0, 0, 0.3));\n",
              "      fill: #FFFFFF;\n",
              "    }\n",
              "  </style>\n",
              "\n",
              "      <script>\n",
              "        const buttonEl =\n",
              "          document.querySelector('#df-9f787c69-002b-49d7-9a51-834fcfde3265 button.colab-df-convert');\n",
              "        buttonEl.style.display =\n",
              "          google.colab.kernel.accessAllowed ? 'block' : 'none';\n",
              "\n",
              "        async function convertToInteractive(key) {\n",
              "          const element = document.querySelector('#df-9f787c69-002b-49d7-9a51-834fcfde3265');\n",
              "          const dataTable =\n",
              "            await google.colab.kernel.invokeFunction('convertToInteractive',\n",
              "                                                     [key], {});\n",
              "          if (!dataTable) return;\n",
              "\n",
              "          const docLinkHtml = 'Like what you see? Visit the ' +\n",
              "            '<a target=\"_blank\" href=https://colab.research.google.com/notebooks/data_table.ipynb>data table notebook</a>'\n",
              "            + ' to learn more about interactive tables.';\n",
              "          element.innerHTML = '';\n",
              "          dataTable['output_type'] = 'display_data';\n",
              "          await google.colab.output.renderOutput(dataTable, element);\n",
              "          const docLink = document.createElement('div');\n",
              "          docLink.innerHTML = docLinkHtml;\n",
              "          element.appendChild(docLink);\n",
              "        }\n",
              "      </script>\n",
              "    </div>\n",
              "  </div>\n",
              "  "
            ]
          },
          "metadata": {},
          "execution_count": 20
        }
      ]
    },
    {
      "cell_type": "code",
      "execution_count": 25,
      "metadata": {
        "id": "L_h99vB4dwJ5"
      },
      "outputs": [],
      "source": [
        "class Recommender:\n",
        "    \n",
        "    def __init__(self, model, user_emb, item_emb, bias_u=None, bias_i=None):\n",
        "        self.model = model\n",
        "        self.user_emb = user_emb\n",
        "        self.user_bias = bias_u\n",
        "        self.item_emb = item_emb\n",
        "        self.item_bias = bias_i\n",
        "        \n",
        "    def predict(self, users, beers):\n",
        "        return self.model.predict(users, beers)\n",
        "    \n",
        "    def similars(self, toy_beer_id=1, top=10):\n",
        "        input_vector = self.item_emb[toy_beer_id]\n",
        "\n",
        "        data = []\n",
        "        for item_idx, column in enumerate(self.item_emb):\n",
        "            dst = np.linalg.norm(column - input_vector)\n",
        "            data.append((item_idx, dst))\n",
        "\n",
        "        sorted_by_dst = list(sorted(data, key=lambda val: val[1]))\n",
        "\n",
        "        similars = []\n",
        "        for item in sorted_by_dst:\n",
        "            search = beer_info[beer_info[\"beer_name\"] == item[0]]\n",
        "            beer_name = search[\"beer_name\"].to_string()\n",
        "            if len(search) > 0:\n",
        "                similars.append((item[0], beer_name))\n",
        "\n",
        "        return similars[:top]\n",
        "\n",
        "    def recommend(self, user_id=4, top=10):\n",
        "        new_beer_ids = negative_dataset[user_id]\n",
        "\n",
        "        data = []\n",
        "        for beer_id in new_beer_ids:\n",
        "            bias_w = self.user_bias[user_id] if self.user_bias is not None else 0\n",
        "            bias_h = self.item_bias[beer_id] if self.item_bias is not None else 0\n",
        "\n",
        "            dot = np.dot(self.user_emb[user_id], self.item_emb[beer_id])\n",
        "            data.append((beer_id, dot + bias_w + bias_h))\n",
        "\n",
        "        data = list(sorted(data, key=lambda val: val[1], reverse=True))\n",
        "        recommendations = [beer_info[beer_info[\"beer_beerid\"] == x[0]][\"beer_name\"].to_string() for x in data]\n",
        "        return recommendations[:top]"
      ]
    },
    {
      "cell_type": "markdown",
      "metadata": {
        "id": "LF9MipNVdwJ6"
      },
      "source": [
        "# Baseline MF model: LightFM warp"
      ]
    },
    {
      "cell_type": "code",
      "execution_count": 26,
      "metadata": {
        "id": "RikjzmJddwJ8"
      },
      "outputs": [],
      "source": [
        "baseline_recommender = Recommender(\n",
        "    baseline_warp, \n",
        "    baseline_warp.user_embeddings, \n",
        "    baseline_warp.item_embeddings,\n",
        "    baseline_warp.user_biases,\n",
        "    baseline_warp.item_biases\n",
        ")"
      ]
    }
  ],
  "metadata": {
    "kernelspec": {
      "display_name": "Python 3",
      "language": "python",
      "name": "python3"
    },
    "language_info": {
      "codemirror_mode": {
        "name": "ipython",
        "version": 3
      },
      "file_extension": ".py",
      "mimetype": "text/x-python",
      "name": "python",
      "nbconvert_exporter": "python",
      "pygments_lexer": "ipython3",
      "version": "3.7.6"
    },
    "colab": {
      "provenance": [],
      "machine_shape": "hm"
    },
    "gpuClass": "standard"
  },
  "nbformat": 4,
  "nbformat_minor": 0
}